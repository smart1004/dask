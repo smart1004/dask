{
 "cells": [
  {
   "cell_type": "code",
   "execution_count": null,
   "metadata": {},
   "outputs": [],
   "source": [
    "#https://towardsdatascience.com/trying-out-dask-dataframes-in-python-for-fast-data-analysis-in-parallel-aa960c18a915"
   ]
  },
  {
   "cell_type": "code",
   "execution_count": 1,
   "metadata": {},
   "outputs": [],
   "source": [
    "import dask.dataframe as ddf\n",
    "import time\n",
    "import pandas as pd"
   ]
  },
  {
   "cell_type": "code",
   "execution_count": null,
   "metadata": {},
   "outputs": [],
   "source": []
  },
  {
   "cell_type": "code",
   "execution_count": 33,
   "metadata": {},
   "outputs": [],
   "source": [
    "df = ddf.read_csv('random_people.csv')"
   ]
  },
  {
   "cell_type": "code",
   "execution_count": 34,
   "metadata": {},
   "outputs": [
    {
     "data": {
      "text/html": [
       "<div>\n",
       "<style scoped>\n",
       "    .dataframe tbody tr th:only-of-type {\n",
       "        vertical-align: middle;\n",
       "    }\n",
       "\n",
       "    .dataframe tbody tr th {\n",
       "        vertical-align: top;\n",
       "    }\n",
       "\n",
       "    .dataframe thead th {\n",
       "        text-align: right;\n",
       "    }\n",
       "</style>\n",
       "<table border=\"1\" class=\"dataframe\">\n",
       "  <thead>\n",
       "    <tr style=\"text-align: right;\">\n",
       "      <th></th>\n",
       "      <th>Unnamed: 0</th>\n",
       "      <th>name</th>\n",
       "      <th>surname</th>\n",
       "      <th>salary</th>\n",
       "    </tr>\n",
       "  </thead>\n",
       "  <tbody>\n",
       "    <tr>\n",
       "      <th>0</th>\n",
       "      <td>0</td>\n",
       "      <td>Henry</td>\n",
       "      <td>Joneson</td>\n",
       "      <td>5000</td>\n",
       "    </tr>\n",
       "  </tbody>\n",
       "</table>\n",
       "</div>"
      ],
      "text/plain": [
       "   Unnamed: 0   name  surname  salary\n",
       "0           0  Henry  Joneson    5000"
      ]
     },
     "execution_count": 34,
     "metadata": {},
     "output_type": "execute_result"
    }
   ],
   "source": [
    "df.head(1)"
   ]
  },
  {
   "cell_type": "code",
   "execution_count": 35,
   "metadata": {},
   "outputs": [],
   "source": [
    "df['bonus'] = df['salary']*.5"
   ]
  },
  {
   "cell_type": "code",
   "execution_count": 36,
   "metadata": {},
   "outputs": [],
   "source": [
    "dfo = pd.read_csv('random_people.csv')"
   ]
  },
  {
   "cell_type": "code",
   "execution_count": 37,
   "metadata": {},
   "outputs": [],
   "source": [
    "dfo['bonus'] = dfo['salary']*.5"
   ]
  },
  {
   "cell_type": "code",
   "execution_count": 38,
   "metadata": {},
   "outputs": [],
   "source": [
    "def benchmark(function, function_name):\n",
    "    start = time.time()\n",
    "    function()\n",
    "    end = time.time()\n",
    "    print(\"{0} seconds for {1}\".format((end - start), function_name))"
   ]
  },
  {
   "cell_type": "code",
   "execution_count": 39,
   "metadata": {},
   "outputs": [],
   "source": [
    "def get_bonus(df):\n",
    "    df['bonus'] = df['salary']*.5"
   ]
  },
  {
   "cell_type": "code",
   "execution_count": 40,
   "metadata": {},
   "outputs": [],
   "source": [
    "def test_1():\n",
    "    get_bonus(df)\n",
    "def test_2():\n",
    "    get_bonus(dfo)"
   ]
  },
  {
   "cell_type": "code",
   "execution_count": 41,
   "metadata": {},
   "outputs": [
    {
     "name": "stdout",
     "output_type": "stream",
     "text": [
      "0.009985685348510742 seconds for dask dataframe nuevo\n",
      "0.0010008811950683594 seconds for origin dataframe viejo\n"
     ]
    }
   ],
   "source": [
    "benchmark(test_1, 'dask dataframe nuevo')\n",
    "benchmark(test_2, 'origin dataframe viejo')"
   ]
  },
  {
   "cell_type": "code",
   "execution_count": 42,
   "metadata": {},
   "outputs": [
    {
     "data": {
      "text/html": [
       "<div>\n",
       "<style scoped>\n",
       "    .dataframe tbody tr th:only-of-type {\n",
       "        vertical-align: middle;\n",
       "    }\n",
       "\n",
       "    .dataframe tbody tr th {\n",
       "        vertical-align: top;\n",
       "    }\n",
       "\n",
       "    .dataframe thead th {\n",
       "        text-align: right;\n",
       "    }\n",
       "</style>\n",
       "<table border=\"1\" class=\"dataframe\">\n",
       "  <thead>\n",
       "    <tr style=\"text-align: right;\">\n",
       "      <th></th>\n",
       "      <th>Unnamed: 0</th>\n",
       "      <th>name</th>\n",
       "      <th>surname</th>\n",
       "      <th>salary</th>\n",
       "      <th>bonus</th>\n",
       "    </tr>\n",
       "  </thead>\n",
       "  <tbody>\n",
       "    <tr>\n",
       "      <th>0</th>\n",
       "      <td>0</td>\n",
       "      <td>Henry</td>\n",
       "      <td>Joneson</td>\n",
       "      <td>5000</td>\n",
       "      <td>2500.0</td>\n",
       "    </tr>\n",
       "    <tr>\n",
       "      <th>1</th>\n",
       "      <td>1</td>\n",
       "      <td>Albert</td>\n",
       "      <td>Goodman</td>\n",
       "      <td>10000</td>\n",
       "      <td>5000.0</td>\n",
       "    </tr>\n",
       "    <tr>\n",
       "      <th>2</th>\n",
       "      <td>2</td>\n",
       "      <td>William</td>\n",
       "      <td>Goodman</td>\n",
       "      <td>10000</td>\n",
       "      <td>5000.0</td>\n",
       "    </tr>\n",
       "    <tr>\n",
       "      <th>3</th>\n",
       "      <td>3</td>\n",
       "      <td>John</td>\n",
       "      <td>Joneson</td>\n",
       "      <td>10000</td>\n",
       "      <td>5000.0</td>\n",
       "    </tr>\n",
       "    <tr>\n",
       "      <th>4</th>\n",
       "      <td>4</td>\n",
       "      <td>Albert</td>\n",
       "      <td>Black</td>\n",
       "      <td>10000</td>\n",
       "      <td>5000.0</td>\n",
       "    </tr>\n",
       "    <tr>\n",
       "      <th>5</th>\n",
       "      <td>5</td>\n",
       "      <td>Henry</td>\n",
       "      <td>Joneson</td>\n",
       "      <td>12000</td>\n",
       "      <td>6000.0</td>\n",
       "    </tr>\n",
       "    <tr>\n",
       "      <th>6</th>\n",
       "      <td>6</td>\n",
       "      <td>Richard</td>\n",
       "      <td>Green</td>\n",
       "      <td>5500</td>\n",
       "      <td>2750.0</td>\n",
       "    </tr>\n",
       "    <tr>\n",
       "      <th>7</th>\n",
       "      <td>7</td>\n",
       "      <td>Henry</td>\n",
       "      <td>Joneson</td>\n",
       "      <td>11000</td>\n",
       "      <td>5500.0</td>\n",
       "    </tr>\n",
       "    <tr>\n",
       "      <th>8</th>\n",
       "      <td>8</td>\n",
       "      <td>Henry</td>\n",
       "      <td>Goodman</td>\n",
       "      <td>12000</td>\n",
       "      <td>6000.0</td>\n",
       "    </tr>\n",
       "    <tr>\n",
       "      <th>9</th>\n",
       "      <td>9</td>\n",
       "      <td>Albert</td>\n",
       "      <td>Joneson</td>\n",
       "      <td>11000</td>\n",
       "      <td>5500.0</td>\n",
       "    </tr>\n",
       "  </tbody>\n",
       "</table>\n",
       "</div>"
      ],
      "text/plain": [
       "   Unnamed: 0     name  surname  salary   bonus\n",
       "0           0    Henry  Joneson    5000  2500.0\n",
       "1           1   Albert  Goodman   10000  5000.0\n",
       "2           2  William  Goodman   10000  5000.0\n",
       "3           3     John  Joneson   10000  5000.0\n",
       "4           4   Albert    Black   10000  5000.0\n",
       "5           5    Henry  Joneson   12000  6000.0\n",
       "6           6  Richard    Green    5500  2750.0\n",
       "7           7    Henry  Joneson   11000  5500.0\n",
       "8           8    Henry  Goodman   12000  6000.0\n",
       "9           9   Albert  Joneson   11000  5500.0"
      ]
     },
     "execution_count": 42,
     "metadata": {},
     "output_type": "execute_result"
    }
   ],
   "source": [
    "# df3.head(10)"
   ]
  },
  {
   "cell_type": "code",
   "execution_count": 69,
   "metadata": {},
   "outputs": [],
   "source": [
    "df2 = pd.concat([dfo for _ in range(1000)])\n",
    "\n",
    "df3 = pd.concat([df2 for _ in range(500)])\n",
    "# df3 = pd.concat([df2 for _ in range(1000)])  # >> 너무 너리다"
   ]
  },
  {
   "cell_type": "code",
   "execution_count": 70,
   "metadata": {},
   "outputs": [],
   "source": [
    "# dfn = ddf.from_pandas(df3, npartitions=8)\n",
    "dfn = ddf.from_pandas(df3, npartitions=8)"
   ]
  },
  {
   "cell_type": "code",
   "execution_count": 71,
   "metadata": {},
   "outputs": [],
   "source": [
    "# del dfn"
   ]
  },
  {
   "cell_type": "code",
   "execution_count": 72,
   "metadata": {},
   "outputs": [],
   "source": [
    "def test_big_get_bonus():\n",
    "    get_bonus(dfn)\n",
    "def test_big_get_bonus_old():\n",
    "    get_bonus(df3)\n",
    "\n",
    "def get_big_mean():\n",
    "    return dfn.salary.mean().compute()\n",
    "\n",
    "def get_big_mean_old():\n",
    "    return df3.salary.mean()\n",
    "\n",
    "def get_big_max():\n",
    "    return dfn.salary.max().compute()\n",
    "def get_big_max_old():\n",
    "    return df3.salary.max()\n",
    "\n",
    "def get_big_sum():\n",
    "    return dfn.salary.sum().compute()\n",
    "def get_big_sum_old():\n",
    "    return df3.salary.sum()\n",
    "\n",
    "def filter_df():\n",
    "    df = dfn[dfn['salary']>5000]\n",
    "def filter_df_old():\n",
    "    df = df3[df3['salary']>5000]\n",
    "    \n",
    "def run_benchmarks():\n",
    "    for i,f in enumerate([test_big_get_bonus, test_big_get_bonus_old,\n",
    "                          get_big_mean, get_big_mean_old,\n",
    "                          get_big_max,  get_big_max_old,\n",
    "                          get_big_sum,  get_big_sum_old,\n",
    "                          filter_df,    filter_df_old\n",
    "                         ]):\n",
    "        benchmark(f, f.__name__)"
   ]
  },
  {
   "cell_type": "code",
   "execution_count": 73,
   "metadata": {},
   "outputs": [],
   "source": [
    "def f(x):\n",
    "    return (13*x+5)%7\n",
    "\n",
    "def apply_random_old():\n",
    "    df3['random']= df3['salary'].apply(f)\n",
    "    \n",
    "def apply_random():\n",
    "    dfn['random']= dfn['salary'].apply(f).compute()\n",
    "\n",
    "def value_count_test():\n",
    "    dfn.salary.value_counts().compute()\n",
    "\n",
    "def value_count_test_old():\n",
    "    df3.salary.value_counts()\n",
    "    "
   ]
  },
  {
   "cell_type": "code",
   "execution_count": null,
   "metadata": {},
   "outputs": [],
   "source": []
  },
  {
   "cell_type": "code",
   "execution_count": 74,
   "metadata": {},
   "outputs": [
    {
     "name": "stdout",
     "output_type": "stream",
     "text": [
      "0.2688913345336914 seconds for test_big_get_bonus\n",
      "0.6303427219390869 seconds for test_big_get_bonus_old\n",
      "6.232369661331177 seconds for get_big_mean\n",
      "0.7979786396026611 seconds for get_big_mean_old\n",
      "2.4355757236480713 seconds for get_big_max\n",
      "0.5655012130737305 seconds for get_big_max_old\n",
      "1.7692925930023193 seconds for get_big_sum\n",
      "0.44411611557006836 seconds for get_big_sum_old\n",
      "0.0 seconds for filter_df\n",
      "5.589933156967163 seconds for filter_df_old\n"
     ]
    }
   ],
   "source": [
    "run_benchmarks()"
   ]
  },
  {
   "cell_type": "code",
   "execution_count": null,
   "metadata": {},
   "outputs": [],
   "source": [
    "partitons = 8 데이터 2배\n",
    "\n",
    "0.2688913345336914 seconds for test_big_get_bonus\n",
    "0.6303427219390869 seconds for test_big_get_bonus_old\n",
    "6.232369661331177 seconds for get_big_mean\n",
    "0.7979786396026611 seconds for get_big_mean_old\n",
    "2.4355757236480713 seconds for get_big_max\n",
    "0.5655012130737305 seconds for get_big_max_old\n",
    "1.7692925930023193 seconds for get_big_sum\n",
    "0.44411611557006836 seconds for get_big_sum_old\n",
    "0.0 seconds for filter_df\n",
    "5.589933156967163 seconds for filter_df_old"
   ]
  },
  {
   "cell_type": "markdown",
   "metadata": {},
   "source": [
    "partitons = 4\n",
    "0.003843545913696289 seconds for test_big_get_bonus\n",
    "0.3029954433441162 seconds for test_big_get_bonus_old\n",
    "0.973236083984375 seconds for get_big_mean\n",
    "0.2517683506011963 seconds for get_big_mean_old\n",
    "0.9697005748748779 seconds for get_big_max\n",
    "0.20313668251037598 seconds for get_big_max_old\n",
    "0.8749654293060303 seconds for get_big_sum\n",
    "0.2181384563446045 seconds for get_big_sum_old\n",
    "0.001999378204345703 seconds for filter_df\n",
    "1.5380232334136963 seconds for filter_df_old"
   ]
  },
  {
   "cell_type": "markdown",
   "metadata": {},
   "source": [
    "0.003998994827270508 seconds for test_big_get_bonus\n",
    "0.289959192276001 seconds for test_big_get_bonus_old\n",
    "1.644618272781372 seconds for get_big_mean\n",
    "0.23600196838378906 seconds for get_big_mean_old\n",
    "1.4877469539642334 seconds for get_big_max\n",
    "0.19876646995544434 seconds for get_big_max_old\n",
    "1.4517626762390137 seconds for get_big_sum\n",
    "0.18754291534423828 seconds for get_big_sum_old\n",
    "0.0 seconds for filter_df\n",
    "1.3441250324249268 seconds for filter_df_old"
   ]
  },
  {
   "cell_type": "code",
   "execution_count": null,
   "metadata": {},
   "outputs": [
    {
     "name": "stderr",
     "output_type": "stream",
     "text": [
      "c:\\programdata\\psc_env\\lib\\site-packages\\dask\\dataframe\\core.py:2284: UserWarning: `meta` is not specified, inferred from partial data. Please provide `meta` if the result is unexpected.\n",
      "  Before: .apply(func)\n",
      "  After:  .apply(func, meta={'x': 'f8', 'y': 'f8'}) for dataframe result\n",
      "  or:     .apply(func, meta=('x', 'f8'))            for series result\n",
      "  warnings.warn(msg)\n"
     ]
    },
    {
     "name": "stdout",
     "output_type": "stream",
     "text": [
      "47.574191093444824 seconds for apply_random\n",
      "23.962359189987183 seconds for apply_random_old\n"
     ]
    }
   ],
   "source": [
    "benchmark(apply_random, apply_random.__name__)\n",
    "benchmark(apply_random_old, apply_random_old.__name__)\n",
    "benchmark(value_count_test, value_count_test.__name__)\n",
    "benchmark(value_count_test_old, value_count_test_old.__name__)"
   ]
  },
  {
   "cell_type": "markdown",
   "metadata": {},
   "source": [
    "8개 partition\n",
    "\n",
    "16.947178840637207 seconds for apply_random\n",
    "11.393437147140503 seconds for apply_random_old\n",
    "2.8274338245391846 seconds for value_count_test\n",
    "0.4364888668060303 seconds for value_count_test_old"
   ]
  },
  {
   "cell_type": "code",
   "execution_count": null,
   "metadata": {},
   "outputs": [],
   "source": [
    "16개 partition\n",
    "\n",
    "17.053419589996338 seconds for apply_random\n",
    "11.048610925674438 seconds for apply_random_old\n",
    "1.8896231651306152 seconds for value_count_test\n",
    "0.3750638961791992 seconds for value_count_test_old"
   ]
  },
  {
   "cell_type": "code",
   "execution_count": 52,
   "metadata": {},
   "outputs": [
    {
     "data": {
      "text/plain": [
       "8"
      ]
     },
     "execution_count": 52,
     "metadata": {},
     "output_type": "execute_result"
    }
   ],
   "source": [
    "import os\n",
    "os.cpu_count()"
   ]
  },
  {
   "cell_type": "code",
   "execution_count": 68,
   "metadata": {},
   "outputs": [
    {
     "data": {
      "text/plain": [
       "Unnamed: 0    25000000\n",
       "name          25000000\n",
       "surname       25000000\n",
       "salary        25000000\n",
       "bonus         25000000\n",
       "random        25000000\n",
       "dtype: int64"
      ]
     },
     "execution_count": 68,
     "metadata": {},
     "output_type": "execute_result"
    }
   ],
   "source": [
    "dfn.count().compute()"
   ]
  },
  {
   "cell_type": "markdown",
   "metadata": {},
   "source": []
  },
  {
   "cell_type": "code",
   "execution_count": 30,
   "metadata": {},
   "outputs": [
    {
     "data": {
      "text/plain": [
       "10000    8000000\n",
       "12000    4000000\n",
       "11000    3500000\n",
       "9500     3000000\n",
       "13500    2500000\n",
       "5500     2500000\n",
       "5000     1500000\n",
       "Name: salary, dtype: int64"
      ]
     },
     "execution_count": 30,
     "metadata": {},
     "output_type": "execute_result"
    }
   ],
   "source": [
    "dfn.salary.value_counts().compute()"
   ]
  },
  {
   "cell_type": "code",
   "execution_count": 31,
   "metadata": {},
   "outputs": [
    {
     "data": {
      "text/html": [
       "<div>\n",
       "<style scoped>\n",
       "    .dataframe tbody tr th:only-of-type {\n",
       "        vertical-align: middle;\n",
       "    }\n",
       "\n",
       "    .dataframe tbody tr th {\n",
       "        vertical-align: top;\n",
       "    }\n",
       "\n",
       "    .dataframe thead th {\n",
       "        text-align: right;\n",
       "    }\n",
       "</style>\n",
       "<table border=\"1\" class=\"dataframe\">\n",
       "  <thead>\n",
       "    <tr style=\"text-align: right;\">\n",
       "      <th></th>\n",
       "      <th>Unnamed: 0</th>\n",
       "      <th>name</th>\n",
       "      <th>surname</th>\n",
       "      <th>salary</th>\n",
       "      <th>bonus</th>\n",
       "      <th>random</th>\n",
       "    </tr>\n",
       "  </thead>\n",
       "  <tbody>\n",
       "    <tr>\n",
       "      <th>0</th>\n",
       "      <td>0</td>\n",
       "      <td>Henry</td>\n",
       "      <td>Joneson</td>\n",
       "      <td>5000</td>\n",
       "      <td>2500.0</td>\n",
       "      <td>3</td>\n",
       "    </tr>\n",
       "    <tr>\n",
       "      <th>0</th>\n",
       "      <td>0</td>\n",
       "      <td>Henry</td>\n",
       "      <td>Joneson</td>\n",
       "      <td>5000</td>\n",
       "      <td>2500.0</td>\n",
       "      <td>3</td>\n",
       "    </tr>\n",
       "    <tr>\n",
       "      <th>0</th>\n",
       "      <td>0</td>\n",
       "      <td>Henry</td>\n",
       "      <td>Joneson</td>\n",
       "      <td>5000</td>\n",
       "      <td>2500.0</td>\n",
       "      <td>3</td>\n",
       "    </tr>\n",
       "    <tr>\n",
       "      <th>0</th>\n",
       "      <td>0</td>\n",
       "      <td>Henry</td>\n",
       "      <td>Joneson</td>\n",
       "      <td>5000</td>\n",
       "      <td>2500.0</td>\n",
       "      <td>3</td>\n",
       "    </tr>\n",
       "    <tr>\n",
       "      <th>0</th>\n",
       "      <td>0</td>\n",
       "      <td>Henry</td>\n",
       "      <td>Joneson</td>\n",
       "      <td>5000</td>\n",
       "      <td>2500.0</td>\n",
       "      <td>3</td>\n",
       "    </tr>\n",
       "    <tr>\n",
       "      <th>0</th>\n",
       "      <td>0</td>\n",
       "      <td>Henry</td>\n",
       "      <td>Joneson</td>\n",
       "      <td>5000</td>\n",
       "      <td>2500.0</td>\n",
       "      <td>3</td>\n",
       "    </tr>\n",
       "    <tr>\n",
       "      <th>0</th>\n",
       "      <td>0</td>\n",
       "      <td>Henry</td>\n",
       "      <td>Joneson</td>\n",
       "      <td>5000</td>\n",
       "      <td>2500.0</td>\n",
       "      <td>3</td>\n",
       "    </tr>\n",
       "    <tr>\n",
       "      <th>0</th>\n",
       "      <td>0</td>\n",
       "      <td>Henry</td>\n",
       "      <td>Joneson</td>\n",
       "      <td>5000</td>\n",
       "      <td>2500.0</td>\n",
       "      <td>3</td>\n",
       "    </tr>\n",
       "    <tr>\n",
       "      <th>0</th>\n",
       "      <td>0</td>\n",
       "      <td>Henry</td>\n",
       "      <td>Joneson</td>\n",
       "      <td>5000</td>\n",
       "      <td>2500.0</td>\n",
       "      <td>3</td>\n",
       "    </tr>\n",
       "    <tr>\n",
       "      <th>0</th>\n",
       "      <td>0</td>\n",
       "      <td>Henry</td>\n",
       "      <td>Joneson</td>\n",
       "      <td>5000</td>\n",
       "      <td>2500.0</td>\n",
       "      <td>3</td>\n",
       "    </tr>\n",
       "  </tbody>\n",
       "</table>\n",
       "</div>"
      ],
      "text/plain": [
       "   Unnamed: 0   name  surname  salary   bonus  random\n",
       "0           0  Henry  Joneson    5000  2500.0       3\n",
       "0           0  Henry  Joneson    5000  2500.0       3\n",
       "0           0  Henry  Joneson    5000  2500.0       3\n",
       "0           0  Henry  Joneson    5000  2500.0       3\n",
       "0           0  Henry  Joneson    5000  2500.0       3\n",
       "0           0  Henry  Joneson    5000  2500.0       3\n",
       "0           0  Henry  Joneson    5000  2500.0       3\n",
       "0           0  Henry  Joneson    5000  2500.0       3\n",
       "0           0  Henry  Joneson    5000  2500.0       3\n",
       "0           0  Henry  Joneson    5000  2500.0       3"
      ]
     },
     "execution_count": 31,
     "metadata": {},
     "output_type": "execute_result"
    }
   ],
   "source": [
    "dfn.head(10)"
   ]
  },
  {
   "cell_type": "code",
   "execution_count": null,
   "metadata": {},
   "outputs": [],
   "source": []
  }
 ],
 "metadata": {
  "kernelspec": {
   "display_name": "Python 3",
   "language": "python",
   "name": "python3"
  },
  "language_info": {
   "codemirror_mode": {
    "name": "ipython",
    "version": 3
   },
   "file_extension": ".py",
   "mimetype": "text/x-python",
   "name": "python",
   "nbconvert_exporter": "python",
   "pygments_lexer": "ipython3",
   "version": "3.6.5"
  }
 },
 "nbformat": 4,
 "nbformat_minor": 2
}
