{
 "cells": [
  {
   "cell_type": "code",
   "execution_count": 2,
   "metadata": {},
   "outputs": [],
   "source": [
    "import feather"
   ]
  },
  {
   "cell_type": "code",
   "execution_count": 4,
   "metadata": {},
   "outputs": [],
   "source": [
    "import pandas as pd\n",
    "import dask.dataframe as dd\n",
    "import fastparquet\n",
    "from dask import visualize"
   ]
  },
  {
   "cell_type": "code",
   "execution_count": 5,
   "metadata": {},
   "outputs": [],
   "source": [
    "csv_file = 'yellow_tripdata_2017-01.csv'\n",
    "csv_file_on = 'yellow_tripdata_2017-01'"
   ]
  },
  {
   "cell_type": "code",
   "execution_count": 19,
   "metadata": {},
   "outputs": [
    {
     "name": "stdout",
     "output_type": "stream",
     "text": [
      "Wall time: 661 ms\n"
     ]
    }
   ],
   "source": []
  },
  {
   "cell_type": "code",
   "execution_count": 20,
   "metadata": {},
   "outputs": [
    {
     "data": {
      "text/html": [
       "<div>\n",
       "<style scoped>\n",
       "    .dataframe tbody tr th:only-of-type {\n",
       "        vertical-align: middle;\n",
       "    }\n",
       "\n",
       "    .dataframe tbody tr th {\n",
       "        vertical-align: top;\n",
       "    }\n",
       "\n",
       "    .dataframe thead th {\n",
       "        text-align: right;\n",
       "    }\n",
       "</style>\n",
       "<table border=\"1\" class=\"dataframe\">\n",
       "  <thead>\n",
       "    <tr style=\"text-align: right;\">\n",
       "      <th></th>\n",
       "      <th>Unnamed: 0</th>\n",
       "      <th>VendorID</th>\n",
       "      <th>tpep_pickup_datetime</th>\n",
       "      <th>tpep_dropoff_datetime</th>\n",
       "      <th>passenger_count</th>\n",
       "      <th>trip_distance</th>\n",
       "      <th>RatecodeID</th>\n",
       "      <th>store_and_fwd_flag</th>\n",
       "      <th>PULocationID</th>\n",
       "      <th>DOLocationID</th>\n",
       "      <th>payment_type</th>\n",
       "      <th>fare_amount</th>\n",
       "      <th>extra</th>\n",
       "      <th>mta_tax</th>\n",
       "      <th>tip_amount</th>\n",
       "      <th>tolls_amount</th>\n",
       "      <th>improvement_surcharge</th>\n",
       "      <th>total_amount</th>\n",
       "    </tr>\n",
       "  </thead>\n",
       "  <tbody>\n",
       "    <tr>\n",
       "      <th>0</th>\n",
       "      <td>0</td>\n",
       "      <td>1</td>\n",
       "      <td>2017-01-09 11:13:28</td>\n",
       "      <td>2017-01-09 11:25:45</td>\n",
       "      <td>1</td>\n",
       "      <td>3.30</td>\n",
       "      <td>1</td>\n",
       "      <td>N</td>\n",
       "      <td>263</td>\n",
       "      <td>161</td>\n",
       "      <td>1</td>\n",
       "      <td>12.5</td>\n",
       "      <td>0.0</td>\n",
       "      <td>0.5</td>\n",
       "      <td>2.00</td>\n",
       "      <td>0.0</td>\n",
       "      <td>0.3</td>\n",
       "      <td>15.30</td>\n",
       "    </tr>\n",
       "    <tr>\n",
       "      <th>1</th>\n",
       "      <td>1</td>\n",
       "      <td>1</td>\n",
       "      <td>2017-01-09 11:32:27</td>\n",
       "      <td>2017-01-09 11:36:01</td>\n",
       "      <td>1</td>\n",
       "      <td>0.90</td>\n",
       "      <td>1</td>\n",
       "      <td>N</td>\n",
       "      <td>186</td>\n",
       "      <td>234</td>\n",
       "      <td>1</td>\n",
       "      <td>5.0</td>\n",
       "      <td>0.0</td>\n",
       "      <td>0.5</td>\n",
       "      <td>1.45</td>\n",
       "      <td>0.0</td>\n",
       "      <td>0.3</td>\n",
       "      <td>7.25</td>\n",
       "    </tr>\n",
       "    <tr>\n",
       "      <th>2</th>\n",
       "      <td>2</td>\n",
       "      <td>1</td>\n",
       "      <td>2017-01-09 11:38:20</td>\n",
       "      <td>2017-01-09 11:42:05</td>\n",
       "      <td>1</td>\n",
       "      <td>1.10</td>\n",
       "      <td>1</td>\n",
       "      <td>N</td>\n",
       "      <td>164</td>\n",
       "      <td>161</td>\n",
       "      <td>1</td>\n",
       "      <td>5.5</td>\n",
       "      <td>0.0</td>\n",
       "      <td>0.5</td>\n",
       "      <td>1.00</td>\n",
       "      <td>0.0</td>\n",
       "      <td>0.3</td>\n",
       "      <td>7.30</td>\n",
       "    </tr>\n",
       "    <tr>\n",
       "      <th>3</th>\n",
       "      <td>3</td>\n",
       "      <td>1</td>\n",
       "      <td>2017-01-09 11:52:13</td>\n",
       "      <td>2017-01-09 11:57:36</td>\n",
       "      <td>1</td>\n",
       "      <td>1.10</td>\n",
       "      <td>1</td>\n",
       "      <td>N</td>\n",
       "      <td>236</td>\n",
       "      <td>75</td>\n",
       "      <td>1</td>\n",
       "      <td>6.0</td>\n",
       "      <td>0.0</td>\n",
       "      <td>0.5</td>\n",
       "      <td>1.70</td>\n",
       "      <td>0.0</td>\n",
       "      <td>0.3</td>\n",
       "      <td>8.50</td>\n",
       "    </tr>\n",
       "    <tr>\n",
       "      <th>4</th>\n",
       "      <td>4</td>\n",
       "      <td>2</td>\n",
       "      <td>2017-01-01 00:00:00</td>\n",
       "      <td>2017-01-01 00:00:00</td>\n",
       "      <td>1</td>\n",
       "      <td>0.02</td>\n",
       "      <td>2</td>\n",
       "      <td>N</td>\n",
       "      <td>249</td>\n",
       "      <td>234</td>\n",
       "      <td>2</td>\n",
       "      <td>52.0</td>\n",
       "      <td>0.0</td>\n",
       "      <td>0.5</td>\n",
       "      <td>0.00</td>\n",
       "      <td>0.0</td>\n",
       "      <td>0.3</td>\n",
       "      <td>52.80</td>\n",
       "    </tr>\n",
       "  </tbody>\n",
       "</table>\n",
       "</div>"
      ],
      "text/plain": [
       "   Unnamed: 0  VendorID tpep_pickup_datetime tpep_dropoff_datetime  \\\n",
       "0           0         1  2017-01-09 11:13:28   2017-01-09 11:25:45   \n",
       "1           1         1  2017-01-09 11:32:27   2017-01-09 11:36:01   \n",
       "2           2         1  2017-01-09 11:38:20   2017-01-09 11:42:05   \n",
       "3           3         1  2017-01-09 11:52:13   2017-01-09 11:57:36   \n",
       "4           4         2  2017-01-01 00:00:00   2017-01-01 00:00:00   \n",
       "\n",
       "   passenger_count  trip_distance  RatecodeID store_and_fwd_flag  \\\n",
       "0                1           3.30           1                  N   \n",
       "1                1           0.90           1                  N   \n",
       "2                1           1.10           1                  N   \n",
       "3                1           1.10           1                  N   \n",
       "4                1           0.02           2                  N   \n",
       "\n",
       "   PULocationID  DOLocationID  payment_type  fare_amount  extra  mta_tax  \\\n",
       "0           263           161             1         12.5    0.0      0.5   \n",
       "1           186           234             1          5.0    0.0      0.5   \n",
       "2           164           161             1          5.5    0.0      0.5   \n",
       "3           236            75             1          6.0    0.0      0.5   \n",
       "4           249           234             2         52.0    0.0      0.5   \n",
       "\n",
       "   tip_amount  tolls_amount  improvement_surcharge  total_amount  \n",
       "0        2.00           0.0                    0.3         15.30  \n",
       "1        1.45           0.0                    0.3          7.25  \n",
       "2        1.00           0.0                    0.3          7.30  \n",
       "3        1.70           0.0                    0.3          8.50  \n",
       "4        0.00           0.0                    0.3         52.80  "
      ]
     },
     "execution_count": 20,
     "metadata": {},
     "output_type": "execute_result"
    }
   ],
   "source": []
  },
  {
   "cell_type": "code",
   "execution_count": 6,
   "metadata": {},
   "outputs": [
    {
     "name": "stdout",
     "output_type": "stream",
     "text": [
      "Wall time: 51 ms\n"
     ]
    }
   ],
   "source": [
    "%time dd_to_pd_frame = dd.read_csv(csv_file, blocksize=25e6) #.compute()  # 25MB chunks  "
   ]
  },
  {
   "cell_type": "code",
   "execution_count": 7,
   "metadata": {},
   "outputs": [
    {
     "data": {
      "text/plain": [
       "['./data/yellow_tripdata_2017-01_00.csv',\n",
       " './data/yellow_tripdata_2017-01_01.csv',\n",
       " './data/yellow_tripdata_2017-01_02.csv',\n",
       " './data/yellow_tripdata_2017-01_03.csv',\n",
       " './data/yellow_tripdata_2017-01_04.csv',\n",
       " './data/yellow_tripdata_2017-01_05.csv',\n",
       " './data/yellow_tripdata_2017-01_06.csv',\n",
       " './data/yellow_tripdata_2017-01_07.csv',\n",
       " './data/yellow_tripdata_2017-01_08.csv',\n",
       " './data/yellow_tripdata_2017-01_09.csv',\n",
       " './data/yellow_tripdata_2017-01_10.csv',\n",
       " './data/yellow_tripdata_2017-01_11.csv',\n",
       " './data/yellow_tripdata_2017-01_12.csv',\n",
       " './data/yellow_tripdata_2017-01_13.csv',\n",
       " './data/yellow_tripdata_2017-01_14.csv',\n",
       " './data/yellow_tripdata_2017-01_15.csv',\n",
       " './data/yellow_tripdata_2017-01_16.csv',\n",
       " './data/yellow_tripdata_2017-01_17.csv',\n",
       " './data/yellow_tripdata_2017-01_18.csv',\n",
       " './data/yellow_tripdata_2017-01_19.csv',\n",
       " './data/yellow_tripdata_2017-01_20.csv',\n",
       " './data/yellow_tripdata_2017-01_21.csv',\n",
       " './data/yellow_tripdata_2017-01_22.csv',\n",
       " './data/yellow_tripdata_2017-01_23.csv',\n",
       " './data/yellow_tripdata_2017-01_24.csv',\n",
       " './data/yellow_tripdata_2017-01_25.csv',\n",
       " './data/yellow_tripdata_2017-01_26.csv',\n",
       " './data/yellow_tripdata_2017-01_27.csv',\n",
       " './data/yellow_tripdata_2017-01_28.csv',\n",
       " './data/yellow_tripdata_2017-01_29.csv',\n",
       " './data/yellow_tripdata_2017-01_30.csv',\n",
       " './data/yellow_tripdata_2017-01_31.csv',\n",
       " './data/yellow_tripdata_2017-01_32.csv',\n",
       " './data/yellow_tripdata_2017-01_33.csv',\n",
       " './data/yellow_tripdata_2017-01_34.csv']"
      ]
     },
     "execution_count": 7,
     "metadata": {},
     "output_type": "execute_result"
    }
   ],
   "source": [
    " dd_to_pd_frame.to_csv('./data/yellow_tripdata_2017-01_*.csv')  "
   ]
  },
  {
   "cell_type": "code",
   "execution_count": 25,
   "metadata": {},
   "outputs": [
    {
     "name": "stdout",
     "output_type": "stream",
     "text": [
      "Wall time: 639 ms\n"
     ]
    },
    {
     "data": {
      "text/html": [
       "<div>\n",
       "<style scoped>\n",
       "    .dataframe tbody tr th:only-of-type {\n",
       "        vertical-align: middle;\n",
       "    }\n",
       "\n",
       "    .dataframe tbody tr th {\n",
       "        vertical-align: top;\n",
       "    }\n",
       "\n",
       "    .dataframe thead th {\n",
       "        text-align: right;\n",
       "    }\n",
       "</style>\n",
       "<table border=\"1\" class=\"dataframe\">\n",
       "  <thead>\n",
       "    <tr style=\"text-align: right;\">\n",
       "      <th></th>\n",
       "      <th>Unnamed: 0</th>\n",
       "      <th>VendorID</th>\n",
       "      <th>tpep_pickup_datetime</th>\n",
       "      <th>tpep_dropoff_datetime</th>\n",
       "      <th>passenger_count</th>\n",
       "      <th>trip_distance</th>\n",
       "      <th>RatecodeID</th>\n",
       "      <th>store_and_fwd_flag</th>\n",
       "      <th>PULocationID</th>\n",
       "      <th>DOLocationID</th>\n",
       "      <th>payment_type</th>\n",
       "      <th>fare_amount</th>\n",
       "      <th>extra</th>\n",
       "      <th>mta_tax</th>\n",
       "      <th>tip_amount</th>\n",
       "      <th>tolls_amount</th>\n",
       "      <th>improvement_surcharge</th>\n",
       "      <th>total_amount</th>\n",
       "    </tr>\n",
       "  </thead>\n",
       "  <tbody>\n",
       "    <tr>\n",
       "      <th>0</th>\n",
       "      <td>0</td>\n",
       "      <td>1</td>\n",
       "      <td>2017-01-09 11:13:28</td>\n",
       "      <td>2017-01-09 11:25:45</td>\n",
       "      <td>1</td>\n",
       "      <td>3.30</td>\n",
       "      <td>1</td>\n",
       "      <td>N</td>\n",
       "      <td>263</td>\n",
       "      <td>161</td>\n",
       "      <td>1</td>\n",
       "      <td>12.5</td>\n",
       "      <td>0.0</td>\n",
       "      <td>0.5</td>\n",
       "      <td>2.00</td>\n",
       "      <td>0.0</td>\n",
       "      <td>0.3</td>\n",
       "      <td>15.30</td>\n",
       "    </tr>\n",
       "    <tr>\n",
       "      <th>1</th>\n",
       "      <td>1</td>\n",
       "      <td>1</td>\n",
       "      <td>2017-01-09 11:32:27</td>\n",
       "      <td>2017-01-09 11:36:01</td>\n",
       "      <td>1</td>\n",
       "      <td>0.90</td>\n",
       "      <td>1</td>\n",
       "      <td>N</td>\n",
       "      <td>186</td>\n",
       "      <td>234</td>\n",
       "      <td>1</td>\n",
       "      <td>5.0</td>\n",
       "      <td>0.0</td>\n",
       "      <td>0.5</td>\n",
       "      <td>1.45</td>\n",
       "      <td>0.0</td>\n",
       "      <td>0.3</td>\n",
       "      <td>7.25</td>\n",
       "    </tr>\n",
       "    <tr>\n",
       "      <th>2</th>\n",
       "      <td>2</td>\n",
       "      <td>1</td>\n",
       "      <td>2017-01-09 11:38:20</td>\n",
       "      <td>2017-01-09 11:42:05</td>\n",
       "      <td>1</td>\n",
       "      <td>1.10</td>\n",
       "      <td>1</td>\n",
       "      <td>N</td>\n",
       "      <td>164</td>\n",
       "      <td>161</td>\n",
       "      <td>1</td>\n",
       "      <td>5.5</td>\n",
       "      <td>0.0</td>\n",
       "      <td>0.5</td>\n",
       "      <td>1.00</td>\n",
       "      <td>0.0</td>\n",
       "      <td>0.3</td>\n",
       "      <td>7.30</td>\n",
       "    </tr>\n",
       "    <tr>\n",
       "      <th>3</th>\n",
       "      <td>3</td>\n",
       "      <td>1</td>\n",
       "      <td>2017-01-09 11:52:13</td>\n",
       "      <td>2017-01-09 11:57:36</td>\n",
       "      <td>1</td>\n",
       "      <td>1.10</td>\n",
       "      <td>1</td>\n",
       "      <td>N</td>\n",
       "      <td>236</td>\n",
       "      <td>75</td>\n",
       "      <td>1</td>\n",
       "      <td>6.0</td>\n",
       "      <td>0.0</td>\n",
       "      <td>0.5</td>\n",
       "      <td>1.70</td>\n",
       "      <td>0.0</td>\n",
       "      <td>0.3</td>\n",
       "      <td>8.50</td>\n",
       "    </tr>\n",
       "    <tr>\n",
       "      <th>4</th>\n",
       "      <td>4</td>\n",
       "      <td>2</td>\n",
       "      <td>2017-01-01 00:00:00</td>\n",
       "      <td>2017-01-01 00:00:00</td>\n",
       "      <td>1</td>\n",
       "      <td>0.02</td>\n",
       "      <td>2</td>\n",
       "      <td>N</td>\n",
       "      <td>249</td>\n",
       "      <td>234</td>\n",
       "      <td>2</td>\n",
       "      <td>52.0</td>\n",
       "      <td>0.0</td>\n",
       "      <td>0.5</td>\n",
       "      <td>0.00</td>\n",
       "      <td>0.0</td>\n",
       "      <td>0.3</td>\n",
       "      <td>52.80</td>\n",
       "    </tr>\n",
       "  </tbody>\n",
       "</table>\n",
       "</div>"
      ],
      "text/plain": [
       "   Unnamed: 0  VendorID tpep_pickup_datetime tpep_dropoff_datetime  \\\n",
       "0           0         1  2017-01-09 11:13:28   2017-01-09 11:25:45   \n",
       "1           1         1  2017-01-09 11:32:27   2017-01-09 11:36:01   \n",
       "2           2         1  2017-01-09 11:38:20   2017-01-09 11:42:05   \n",
       "3           3         1  2017-01-09 11:52:13   2017-01-09 11:57:36   \n",
       "4           4         2  2017-01-01 00:00:00   2017-01-01 00:00:00   \n",
       "\n",
       "   passenger_count  trip_distance  RatecodeID store_and_fwd_flag  \\\n",
       "0                1           3.30           1                  N   \n",
       "1                1           0.90           1                  N   \n",
       "2                1           1.10           1                  N   \n",
       "3                1           1.10           1                  N   \n",
       "4                1           0.02           2                  N   \n",
       "\n",
       "   PULocationID  DOLocationID  payment_type  fare_amount  extra  mta_tax  \\\n",
       "0           263           161             1         12.5    0.0      0.5   \n",
       "1           186           234             1          5.0    0.0      0.5   \n",
       "2           164           161             1          5.5    0.0      0.5   \n",
       "3           236            75             1          6.0    0.0      0.5   \n",
       "4           249           234             2         52.0    0.0      0.5   \n",
       "\n",
       "   tip_amount  tolls_amount  improvement_surcharge  total_amount  \n",
       "0        2.00           0.0                    0.3         15.30  \n",
       "1        1.45           0.0                    0.3          7.25  \n",
       "2        1.00           0.0                    0.3          7.30  \n",
       "3        1.70           0.0                    0.3          8.50  \n",
       "4        0.00           0.0                    0.3         52.80  "
      ]
     },
     "execution_count": 25,
     "metadata": {},
     "output_type": "execute_result"
    }
   ],
   "source": [
    "%time pd_frame = pd.read_csv('./data\\\\yellow_tripdata_2017-01_00.csv')\n",
    "pd_frame.head()"
   ]
  },
  {
   "cell_type": "code",
   "execution_count": null,
   "metadata": {},
   "outputs": [],
   "source": []
  },
  {
   "cell_type": "code",
   "execution_count": 9,
   "metadata": {},
   "outputs": [],
   "source": [
    "import dask.dataframe as dd\n",
    "from dask import delayed\n",
    "from glob import glob\n",
    "import os"
   ]
  },
  {
   "cell_type": "code",
   "execution_count": 23,
   "metadata": {},
   "outputs": [],
   "source": [
    "files = glob('./data/yellow_tripdata_2017-*')"
   ]
  },
  {
   "cell_type": "code",
   "execution_count": 24,
   "metadata": {},
   "outputs": [
    {
     "data": {
      "text/plain": [
       "['./data\\\\yellow_tripdata_2017-01_00.csv',\n",
       " './data\\\\yellow_tripdata_2017-01_01.csv',\n",
       " './data\\\\yellow_tripdata_2017-01_02.csv',\n",
       " './data\\\\yellow_tripdata_2017-01_03.csv',\n",
       " './data\\\\yellow_tripdata_2017-01_04.csv',\n",
       " './data\\\\yellow_tripdata_2017-01_05.csv',\n",
       " './data\\\\yellow_tripdata_2017-01_06.csv',\n",
       " './data\\\\yellow_tripdata_2017-01_07.csv',\n",
       " './data\\\\yellow_tripdata_2017-01_08.csv',\n",
       " './data\\\\yellow_tripdata_2017-01_09.csv',\n",
       " './data\\\\yellow_tripdata_2017-01_10.csv',\n",
       " './data\\\\yellow_tripdata_2017-01_11.csv',\n",
       " './data\\\\yellow_tripdata_2017-01_12.csv',\n",
       " './data\\\\yellow_tripdata_2017-01_13.csv',\n",
       " './data\\\\yellow_tripdata_2017-01_14.csv',\n",
       " './data\\\\yellow_tripdata_2017-01_15.csv',\n",
       " './data\\\\yellow_tripdata_2017-01_16.csv',\n",
       " './data\\\\yellow_tripdata_2017-01_17.csv',\n",
       " './data\\\\yellow_tripdata_2017-01_18.csv',\n",
       " './data\\\\yellow_tripdata_2017-01_19.csv',\n",
       " './data\\\\yellow_tripdata_2017-01_20.csv',\n",
       " './data\\\\yellow_tripdata_2017-01_21.csv',\n",
       " './data\\\\yellow_tripdata_2017-01_22.csv',\n",
       " './data\\\\yellow_tripdata_2017-01_23.csv',\n",
       " './data\\\\yellow_tripdata_2017-01_24.csv',\n",
       " './data\\\\yellow_tripdata_2017-01_25.csv',\n",
       " './data\\\\yellow_tripdata_2017-01_26.csv',\n",
       " './data\\\\yellow_tripdata_2017-01_27.csv',\n",
       " './data\\\\yellow_tripdata_2017-01_28.csv',\n",
       " './data\\\\yellow_tripdata_2017-01_29.csv',\n",
       " './data\\\\yellow_tripdata_2017-01_30.csv',\n",
       " './data\\\\yellow_tripdata_2017-01_31.csv',\n",
       " './data\\\\yellow_tripdata_2017-01_32.csv',\n",
       " './data\\\\yellow_tripdata_2017-01_33.csv',\n",
       " './data\\\\yellow_tripdata_2017-01_34.csv']"
      ]
     },
     "execution_count": 24,
     "metadata": {},
     "output_type": "execute_result"
    }
   ],
   "source": [
    "files"
   ]
  },
  {
   "cell_type": "code",
   "execution_count": 46,
   "metadata": {},
   "outputs": [],
   "source": [
    "import dask\n",
    "@dask.delayed\n",
    "def load(filename):\n",
    "    return pd.read_csv(filename)\n",
    "\n",
    "@dask.delayed\n",
    "def process(data):\n",
    "    return data.total_amount.sum()\n",
    "\n",
    "@dask.delayed\n",
    "def save(data):\n",
    "    print(data)"
   ]
  },
  {
   "cell_type": "code",
   "execution_count": null,
   "metadata": {},
   "outputs": [],
   "source": []
  },
  {
   "cell_type": "code",
   "execution_count": 47,
   "metadata": {},
   "outputs": [],
   "source": [
    "files = files[:5]"
   ]
  },
  {
   "cell_type": "code",
   "execution_count": 48,
   "metadata": {},
   "outputs": [
    {
     "data": {
      "text/plain": [
       "['./data\\\\yellow_tripdata_2017-01_00.csv',\n",
       " './data\\\\yellow_tripdata_2017-01_01.csv',\n",
       " './data\\\\yellow_tripdata_2017-01_02.csv',\n",
       " './data\\\\yellow_tripdata_2017-01_03.csv',\n",
       " './data\\\\yellow_tripdata_2017-01_04.csv']"
      ]
     },
     "execution_count": 48,
     "metadata": {},
     "output_type": "execute_result"
    }
   ],
   "source": [
    "files"
   ]
  },
  {
   "cell_type": "code",
   "execution_count": 49,
   "metadata": {},
   "outputs": [],
   "source": [
    "lazy_dataframes = []\n",
    "for filename in files:    \n",
    "    #filename = os.path.join(directory, symbol)\n",
    "    #df = pd.read_csv('yellow_tripdata_2017-01.csv')\n",
    "    df = load(filename)\n",
    "    #df = delayed(feather.read_dataframe)(filename)\n",
    "#     directory = '2016-01-01'\n",
    "    #df = delayed(pd.DataFrame.assign)(df)\n",
    "    rs = process(df)\n",
    "    lazy_dataframes.append(rs)"
   ]
  },
  {
   "cell_type": "code",
   "execution_count": 50,
   "metadata": {},
   "outputs": [
    {
     "data": {
      "text/plain": [
       "Delayed('process-08995602-fa9f-47b2-90c1-eb41653d3e30')"
      ]
     },
     "execution_count": 50,
     "metadata": {},
     "output_type": "execute_result"
    }
   ],
   "source": [
    "lazy_dataframes[0]"
   ]
  },
  {
   "cell_type": "code",
   "execution_count": 51,
   "metadata": {},
   "outputs": [
    {
     "data": {
      "image/png": "[encoded data removed]",
      "text/plain": [
       "<IPython.core.display.Image object>"
      ]
     },
     "execution_count": 51,
     "metadata": {},
     "output_type": "execute_result"
    }
   ],
   "source": [
    "visualize(*lazy_dataframes[:5])"
   ]
  },
  {
   "cell_type": "code",
   "execution_count": 52,
   "metadata": {},
   "outputs": [],
   "source": [
    "# sums = [df.total_amount.sum() for df in lazy_dataframes]\n",
    "sums = lazy_dataframes\n",
    "total = delayed(sum)(sums)\n"
   ]
  },
  {
   "cell_type": "code",
   "execution_count": 53,
   "metadata": {},
   "outputs": [
    {
     "data": {
      "image/png": "[encoded data removed]",
      "text/plain": [
       "<IPython.core.display.Image object>"
      ]
     },
     "execution_count": 53,
     "metadata": {},
     "output_type": "execute_result"
    }
   ],
   "source": [
    "visualize(*lazy_dataframes)"
   ]
  },
  {
   "cell_type": "code",
   "execution_count": 54,
   "metadata": {},
   "outputs": [
    {
     "data": {
      "text/plain": [
       "22727546.150000002"
      ]
     },
     "execution_count": 54,
     "metadata": {},
     "output_type": "execute_result"
    }
   ],
   "source": [
    "total.compute()"
   ]
  },
  {
   "cell_type": "code",
   "execution_count": 55,
   "metadata": {},
   "outputs": [
    {
     "data": {
      "image/png": "[encoded data removed]",
      "text/plain": [
       "<IPython.core.display.Image object>"
      ]
     },
     "execution_count": 55,
     "metadata": {},
     "output_type": "execute_result"
    }
   ],
   "source": [
    "visualize(total)"
   ]
  },
  {
   "cell_type": "code",
   "execution_count": null,
   "metadata": {},
   "outputs": [],
   "source": []
  }
 ],
 "metadata": {
  "kernelspec": {
   "display_name": "Python 3",
   "language": "python",
   "name": "python3"
  },
  "language_info": {
   "codemirror_mode": {
    "name": "ipython",
    "version": 3
   },
   "file_extension": ".py",
   "mimetype": "text/x-python",
   "name": "python",
   "nbconvert_exporter": "python",
   "pygments_lexer": "ipython3",
   "version": "3.6.5"
  }
 },
 "nbformat": 4,
 "nbformat_minor": 2
}
