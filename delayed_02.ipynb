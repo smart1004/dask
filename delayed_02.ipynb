{
 "cells": [
  {
   "cell_type": "code",
   "execution_count": 1,
   "metadata": {},
   "outputs": [],
   "source": [
    "import os    \n",
    "DATA_PATH='./data'\n",
    "files = os.listdir(DATA_PATH)"
   ]
  },
  {
   "cell_type": "code",
   "execution_count": 4,
   "metadata": {},
   "outputs": [],
   "source": [
    "files = files[:5]"
   ]
  },
  {
   "cell_type": "code",
   "execution_count": 5,
   "metadata": {},
   "outputs": [
    {
     "data": {
      "text/plain": [
       "['yellow_tripdata_2017-01_00.csv',\n",
       " 'yellow_tripdata_2017-01_01.csv',\n",
       " 'yellow_tripdata_2017-01_02.csv',\n",
       " 'yellow_tripdata_2017-01_03.csv',\n",
       " 'yellow_tripdata_2017-01_04.csv']"
      ]
     },
     "execution_count": 5,
     "metadata": {},
     "output_type": "execute_result"
    }
   ],
   "source": [
    "files"
   ]
  },
  {
   "cell_type": "code",
   "execution_count": 3,
   "metadata": {},
   "outputs": [],
   "source": [
    "from dask.delayed import delayed\n",
    "import dask.dataframe as dd\n",
    "from dask import compute"
   ]
  },
  {
   "cell_type": "code",
   "execution_count": 12,
   "metadata": {},
   "outputs": [],
   "source": [
    "def readAndWriteCsvFiles(file):\n",
    "    ### Step 2.1 read csv file into dataframe \n",
    "    data = dd.read_csv(DATA_PATH +'/' +file, parse_dates=True, infer_datetime_format=False, assume_missing=True)\n",
    "\n",
    "    ### Step 2.2 do some calculation\n",
    "    ### .......\n",
    "\n",
    "    ### Step 2.3 write the dataframe to csv to another folder\n",
    "    data.to_csv(filename=\"data2/*\", name_function=lambda x: file)\n",
    "\n",
    "# compute([delayed(readAndWriteCsvFiles)(file) for file in files])"
   ]
  },
  {
   "cell_type": "code",
   "execution_count": 13,
   "metadata": {},
   "outputs": [
    {
     "name": "stdout",
     "output_type": "stream",
     "text": [
      "Wall time: 8.09 s\n"
     ]
    },
    {
     "data": {
      "text/plain": [
       "([None, None, None, None, None],)"
      ]
     },
     "execution_count": 13,
     "metadata": {},
     "output_type": "execute_result"
    }
   ],
   "source": [
    "%%time\n",
    "compute([delayed(readAndWriteCsvFiles)(file) for file in files], scheduler='processes')"
   ]
  },
  {
   "cell_type": "code",
   "execution_count": null,
   "metadata": {},
   "outputs": [],
   "source": []
  }
 ],
 "metadata": {
  "kernelspec": {
   "display_name": "Python 3",
   "language": "python",
   "name": "python3"
  },
  "language_info": {
   "codemirror_mode": {
    "name": "ipython",
    "version": 3
   },
   "file_extension": ".py",
   "mimetype": "text/x-python",
   "name": "python",
   "nbconvert_exporter": "python",
   "pygments_lexer": "ipython3",
   "version": "3.6.5"
  }
 },
 "nbformat": 4,
 "nbformat_minor": 2
}
