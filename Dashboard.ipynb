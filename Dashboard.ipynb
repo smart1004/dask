{
 "cells": [
  {
   "cell_type": "markdown",
   "metadata": {},
   "source": [
    "http://docs.dask.org/en/latest/diagnostics-distributed.html"
   ]
  },
  {
   "cell_type": "code",
   "execution_count": 2,
   "metadata": {},
   "outputs": [],
   "source": [
    "#  http://localhost:8787/status "
   ]
  },
  {
   "cell_type": "code",
   "execution_count": null,
   "metadata": {},
   "outputs": [],
   "source": []
  },
  {
   "cell_type": "code",
   "execution_count": 3,
   "metadata": {},
   "outputs": [
    {
     "name": "stderr",
     "output_type": "stream",
     "text": [
      "c:\\programdata\\psc_env\\lib\\site-packages\\distributed\\bokeh\\core.py:57: UserWarning: \n",
      "Failed to start diagnostics server on port 8787. [WinError 10048] 각 소켓 주소(프로토콜/네트워크 주소/포트)는 하나만 사용할 수 있습니다\n",
      "  warnings.warn('\\n' + msg)\n"
     ]
    },
    {
     "data": {
      "text/html": [
       "<table style=\"border: 2px solid white;\">\n",
       "<tr>\n",
       "<td style=\"vertical-align: top; border: 0px solid white\">\n",
       "<h3>Client</h3>\n",
       "<ul>\n",
       "  <li><b>Scheduler: </b>tcp://127.0.0.1:54419\n",
       "  <li><b>Dashboard: </b><a href='http://127.0.0.1:54422/status' target='_blank'>http://127.0.0.1:54422/status</a>\n",
       "</ul>\n",
       "</td>\n",
       "<td style=\"vertical-align: top; border: 0px solid white\">\n",
       "<h3>Cluster</h3>\n",
       "<ul>\n",
       "  <li><b>Workers: </b>8</li>\n",
       "  <li><b>Cores: </b>8</li>\n",
       "  <li><b>Memory: </b>8.46 GB</li>\n",
       "</ul>\n",
       "</td>\n",
       "</tr>\n",
       "</table>"
      ],
      "text/plain": [
       "<Client: scheduler='tcp://127.0.0.1:54419' processes=8 cores=8>"
      ]
     },
     "execution_count": 3,
     "metadata": {},
     "output_type": "execute_result"
    },
    {
     "name": "stderr",
     "output_type": "stream",
     "text": [
      "distributed.utils - ERROR - 'start'\n",
      "Traceback (most recent call last):\n",
      "  File \"c:\\programdata\\psc_env\\lib\\site-packages\\distributed\\utils.py\", line 648, in log_errors\n",
      "    yield\n",
      "  File \"c:\\programdata\\psc_env\\lib\\site-packages\\distributed\\bokeh\\components.py\", line 552, in update\n",
      "    ts = metadata['keys'][self.key]\n",
      "KeyError: 'start'\n",
      "tornado.application - ERROR - Exception in callback functools.partial(<function wrap.<locals>.null_wrapper at 0x000001BAEAB78BF8>, <Future finished exception=KeyError('start',)>)\n",
      "Traceback (most recent call last):\n",
      "  File \"c:\\programdata\\psc_env\\lib\\site-packages\\tornado\\ioloop.py\", line 758, in _run_callback\n",
      "    ret = callback()\n",
      "  File \"c:\\programdata\\psc_env\\lib\\site-packages\\tornado\\stack_context.py\", line 300, in null_wrapper\n",
      "    return fn(*args, **kwargs)\n",
      "  File \"c:\\programdata\\psc_env\\lib\\site-packages\\tornado\\ioloop.py\", line 779, in _discard_future_result\n",
      "    future.result()\n",
      "  File \"c:\\programdata\\psc_env\\lib\\site-packages\\tornado\\gen.py\", line 1147, in run\n",
      "    yielded = self.gen.send(value)\n",
      "  File \"c:\\programdata\\psc_env\\lib\\site-packages\\bokeh\\server\\session.py\", line 70, in _needs_document_lock_wrapper\n",
      "    result = yield yield_for_all_futures(func(self, *args, **kwargs))\n",
      "  File \"c:\\programdata\\psc_env\\lib\\site-packages\\bokeh\\server\\session.py\", line 191, in with_document_locked\n",
      "    return func(*args, **kwargs)\n",
      "  File \"c:\\programdata\\psc_env\\lib\\site-packages\\bokeh\\document\\document.py\", line 1126, in wrapper\n",
      "    return doc._with_self_as_curdoc(invoke)\n",
      "  File \"c:\\programdata\\psc_env\\lib\\site-packages\\bokeh\\document\\document.py\", line 1112, in _with_self_as_curdoc\n",
      "    return f()\n",
      "  File \"c:\\programdata\\psc_env\\lib\\site-packages\\bokeh\\document\\document.py\", line 1125, in invoke\n",
      "    return f(*args, **kwargs)\n",
      "  File \"c:\\programdata\\psc_env\\lib\\site-packages\\bokeh\\document\\document.py\", line 915, in remove_then_invoke\n",
      "    return callback(*args, **kwargs)\n",
      "  File \"c:\\programdata\\psc_env\\lib\\site-packages\\distributed\\bokeh\\components.py\", line 572, in <lambda>\n",
      "    self.doc().add_next_tick_callback(lambda: self.update(prof, metadata))\n",
      "  File \"c:\\programdata\\psc_env\\lib\\site-packages\\bokeh\\core\\property\\validation.py\", line 97, in func\n",
      "    return input_function(*args, **kwargs)\n",
      "  File \"c:\\programdata\\psc_env\\lib\\site-packages\\distributed\\bokeh\\components.py\", line 552, in update\n",
      "    ts = metadata['keys'][self.key]\n",
      "KeyError: 'start'\n",
      "distributed.utils - ERROR - 'start'\n",
      "Traceback (most recent call last):\n",
      "  File \"c:\\programdata\\psc_env\\lib\\site-packages\\distributed\\utils.py\", line 648, in log_errors\n",
      "    yield\n",
      "  File \"c:\\programdata\\psc_env\\lib\\site-packages\\distributed\\bokeh\\components.py\", line 552, in update\n",
      "    ts = metadata['keys'][self.key]\n",
      "KeyError: 'start'\n",
      "tornado.application - ERROR - Exception in callback functools.partial(<function wrap.<locals>.null_wrapper at 0x000001BAEBE9C950>, <Future finished exception=KeyError('start',)>)\n",
      "Traceback (most recent call last):\n",
      "  File \"c:\\programdata\\psc_env\\lib\\site-packages\\tornado\\ioloop.py\", line 758, in _run_callback\n",
      "    ret = callback()\n",
      "  File \"c:\\programdata\\psc_env\\lib\\site-packages\\tornado\\stack_context.py\", line 300, in null_wrapper\n",
      "    return fn(*args, **kwargs)\n",
      "  File \"c:\\programdata\\psc_env\\lib\\site-packages\\tornado\\ioloop.py\", line 779, in _discard_future_result\n",
      "    future.result()\n",
      "  File \"c:\\programdata\\psc_env\\lib\\site-packages\\tornado\\gen.py\", line 1147, in run\n",
      "    yielded = self.gen.send(value)\n",
      "  File \"c:\\programdata\\psc_env\\lib\\site-packages\\bokeh\\server\\session.py\", line 70, in _needs_document_lock_wrapper\n",
      "    result = yield yield_for_all_futures(func(self, *args, **kwargs))\n",
      "  File \"c:\\programdata\\psc_env\\lib\\site-packages\\bokeh\\server\\session.py\", line 191, in with_document_locked\n",
      "    return func(*args, **kwargs)\n",
      "  File \"c:\\programdata\\psc_env\\lib\\site-packages\\bokeh\\document\\document.py\", line 1126, in wrapper\n",
      "    return doc._with_self_as_curdoc(invoke)\n",
      "  File \"c:\\programdata\\psc_env\\lib\\site-packages\\bokeh\\document\\document.py\", line 1112, in _with_self_as_curdoc\n",
      "    return f()\n",
      "  File \"c:\\programdata\\psc_env\\lib\\site-packages\\bokeh\\document\\document.py\", line 1125, in invoke\n",
      "    return f(*args, **kwargs)\n",
      "  File \"c:\\programdata\\psc_env\\lib\\site-packages\\bokeh\\document\\document.py\", line 915, in remove_then_invoke\n",
      "    return callback(*args, **kwargs)\n",
      "  File \"c:\\programdata\\psc_env\\lib\\site-packages\\distributed\\bokeh\\components.py\", line 572, in <lambda>\n",
      "    self.doc().add_next_tick_callback(lambda: self.update(prof, metadata))\n",
      "  File \"c:\\programdata\\psc_env\\lib\\site-packages\\bokeh\\core\\property\\validation.py\", line 97, in func\n",
      "    return input_function(*args, **kwargs)\n",
      "  File \"c:\\programdata\\psc_env\\lib\\site-packages\\distributed\\bokeh\\components.py\", line 552, in update\n",
      "    ts = metadata['keys'][self.key]\n",
      "KeyError: 'start'\n"
     ]
    }
   ],
   "source": [
    "from dask.distributed import Client\n",
    "client = Client()  # start distributed scheduler locally.  Launch dashboard\n",
    "client"
   ]
  },
  {
   "cell_type": "code",
   "execution_count": null,
   "metadata": {},
   "outputs": [],
   "source": []
  },
  {
   "cell_type": "code",
   "execution_count": null,
   "metadata": {},
   "outputs": [],
   "source": [
    ">>> from dask.distributed import Client\n",
    ">>> client = Client()  # set up local cluster on your laptop\n",
    ">>> client\n",
    "<Client: scheduler=\"127.0.0.1:8786\" processes=8 cores=8>"
   ]
  }
 ],
 "metadata": {
  "kernelspec": {
   "display_name": "Python 3",
   "language": "python",
   "name": "python3"
  },
  "language_info": {
   "codemirror_mode": {
    "name": "ipython",
    "version": 3
   },
   "file_extension": ".py",
   "mimetype": "text/x-python",
   "name": "python",
   "nbconvert_exporter": "python",
   "pygments_lexer": "ipython3",
   "version": "3.6.5"
  }
 },
 "nbformat": 4,
 "nbformat_minor": 2
}
